{
 "cells": [
  {
   "cell_type": "code",
   "execution_count": 1,
   "id": "a3facbdf-9531-449c-a228-956b40a2b5b8",
   "metadata": {},
   "outputs": [
    {
     "data": {
      "text/plain": [
       "True"
      ]
     },
     "execution_count": 1,
     "metadata": {},
     "output_type": "execute_result"
    }
   ],
   "source": [
    "from dotenv import load_dotenv\n",
    "import os\n",
    "\n",
    "load_dotenv()"
   ]
  },
  {
   "cell_type": "code",
   "execution_count": 7,
   "id": "a4e63c5d-c975-4482-86f2-227bd08d9fd4",
   "metadata": {},
   "outputs": [
    {
     "data": {
      "text/plain": [
       "'Dogs are believed to have dichromatic vision, meaning they have two types of color receptors in their eyes (compared to humans who have three). This means that they can see shades of blue and yellow, but do not have the ability to see shades of red, green, and orange. Therefore, dogs see colors as various shades of blue and yellow, with some gray and brown tones. '"
      ]
     },
     "execution_count": 7,
     "metadata": {},
     "output_type": "execute_result"
    }
   ],
   "source": [
    "from langchain.llms import OpenAI\n",
    "\n",
    "model = OpenAI()\n",
    "\n",
    "response = model(\"what colors can dogs see?\")\n",
    "\n",
    "response.replace('\\n', '')"
   ]
  },
  {
   "cell_type": "code",
   "execution_count": null,
   "id": "bdbca5f4-0cf4-4c1f-8461-56f09bba3beb",
   "metadata": {},
   "outputs": [],
   "source": []
  }
 ],
 "metadata": {
  "kernelspec": {
   "display_name": "Python 3 (ipykernel)",
   "language": "python",
   "name": "python3"
  },
  "language_info": {
   "codemirror_mode": {
    "name": "ipython",
    "version": 3
   },
   "file_extension": ".py",
   "mimetype": "text/x-python",
   "name": "python",
   "nbconvert_exporter": "python",
   "pygments_lexer": "ipython3",
   "version": "3.10.9"
  }
 },
 "nbformat": 4,
 "nbformat_minor": 5
}
